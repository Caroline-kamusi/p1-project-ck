











import pandas as pd
import numpy as np
import matplotlib.pyplot as plt





# load data 
df = pd.read_csv('AviationData.csv', encoding='ISO-8859-1')
df



